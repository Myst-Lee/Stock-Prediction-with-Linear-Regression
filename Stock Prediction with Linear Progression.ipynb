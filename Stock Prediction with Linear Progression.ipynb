{
 "cells": [
  {
   "cell_type": "markdown",
   "id": "3c7bc34d",
   "metadata": {},
   "source": [
    "## Stock Prediction Project"
   ]
  },
  {
   "cell_type": "markdown",
   "id": "42112cd8",
   "metadata": {},
   "source": [
    "Scrape Data via API. We will use yfinance"
   ]
  },
  {
   "cell_type": "code",
   "execution_count": 1,
   "id": "2e8cee32",
   "metadata": {
    "collapsed": true
   },
   "outputs": [
    {
     "name": "stdout",
     "output_type": "stream",
     "text": [
      "Requirement already satisfied: yfinance in c:\\programdata\\anaconda3\\lib\\site-packages (0.1.87)\n",
      "Requirement already satisfied: pandas>=0.24.0 in c:\\programdata\\anaconda3\\lib\\site-packages (from yfinance) (1.3.4)\n",
      "Requirement already satisfied: appdirs>=1.4.4 in c:\\programdata\\anaconda3\\lib\\site-packages (from yfinance) (1.4.4)\n",
      "Requirement already satisfied: requests>=2.26 in c:\\programdata\\anaconda3\\lib\\site-packages (from yfinance) (2.28.1)\n",
      "Requirement already satisfied: numpy>=1.15 in c:\\programdata\\anaconda3\\lib\\site-packages (from yfinance) (1.20.3)\n",
      "Requirement already satisfied: multitasking>=0.0.7 in c:\\programdata\\anaconda3\\lib\\site-packages (from yfinance) (0.0.11)\n",
      "Requirement already satisfied: lxml>=4.5.1 in c:\\programdata\\anaconda3\\lib\\site-packages (from yfinance) (4.6.3)\n",
      "Requirement already satisfied: python-dateutil>=2.7.3 in c:\\programdata\\anaconda3\\lib\\site-packages (from pandas>=0.24.0->yfinance) (2.8.2)\n",
      "Requirement already satisfied: pytz>=2017.3 in c:\\programdata\\anaconda3\\lib\\site-packages (from pandas>=0.24.0->yfinance) (2021.3)\n",
      "Requirement already satisfied: charset-normalizer<3,>=2 in c:\\programdata\\anaconda3\\lib\\site-packages (from requests>=2.26->yfinance) (2.0.4)\n",
      "Requirement already satisfied: certifi>=2017.4.17 in c:\\programdata\\anaconda3\\lib\\site-packages (from requests>=2.26->yfinance) (2021.10.8)\n",
      "Requirement already satisfied: idna<4,>=2.5 in c:\\programdata\\anaconda3\\lib\\site-packages (from requests>=2.26->yfinance) (2.6)\n",
      "Requirement already satisfied: urllib3<1.27,>=1.21.1 in c:\\programdata\\anaconda3\\lib\\site-packages (from requests>=2.26->yfinance) (1.22)\n",
      "Requirement already satisfied: six>=1.5 in c:\\programdata\\anaconda3\\lib\\site-packages (from python-dateutil>=2.7.3->pandas>=0.24.0->yfinance) (1.16.0)\n"
     ]
    },
    {
     "name": "stderr",
     "output_type": "stream",
     "text": [
      "WARNING: Ignoring invalid distribution -yptography (c:\\programdata\\anaconda3\\lib\\site-packages)\n",
      "WARNING: Ignoring invalid distribution -llib3 (c:\\programdata\\anaconda3\\lib\\site-packages)\n",
      "WARNING: Ignoring invalid distribution -ryptography (c:\\programdata\\anaconda3\\lib\\site-packages)\n",
      "WARNING: Ignoring invalid distribution -rllib3 (c:\\programdata\\anaconda3\\lib\\site-packages)\n",
      "WARNING: Ignoring invalid distribution -ip (c:\\programdata\\anaconda3\\lib\\site-packages)\n",
      "WARNING: Ignoring invalid distribution - (c:\\programdata\\anaconda3\\lib\\site-packages)\n",
      "WARNING: Ignoring invalid distribution -arkupsafe (c:\\programdata\\anaconda3\\lib\\site-packages)\n",
      "WARNING: Ignoring invalid distribution -yptography (c:\\programdata\\anaconda3\\lib\\site-packages)\n",
      "WARNING: Ignoring invalid distribution -llib3 (c:\\programdata\\anaconda3\\lib\\site-packages)\n",
      "WARNING: Ignoring invalid distribution -ryptography (c:\\programdata\\anaconda3\\lib\\site-packages)\n",
      "WARNING: Ignoring invalid distribution -rllib3 (c:\\programdata\\anaconda3\\lib\\site-packages)\n",
      "WARNING: Ignoring invalid distribution -ip (c:\\programdata\\anaconda3\\lib\\site-packages)\n",
      "WARNING: Ignoring invalid distribution - (c:\\programdata\\anaconda3\\lib\\site-packages)\n",
      "WARNING: Ignoring invalid distribution -arkupsafe (c:\\programdata\\anaconda3\\lib\\site-packages)\n",
      "WARNING: Ignoring invalid distribution -yptography (c:\\programdata\\anaconda3\\lib\\site-packages)\n",
      "WARNING: Ignoring invalid distribution -llib3 (c:\\programdata\\anaconda3\\lib\\site-packages)\n",
      "WARNING: Ignoring invalid distribution -ryptography (c:\\programdata\\anaconda3\\lib\\site-packages)\n",
      "WARNING: Ignoring invalid distribution -rllib3 (c:\\programdata\\anaconda3\\lib\\site-packages)\n",
      "WARNING: Ignoring invalid distribution -ip (c:\\programdata\\anaconda3\\lib\\site-packages)\n",
      "WARNING: Ignoring invalid distribution - (c:\\programdata\\anaconda3\\lib\\site-packages)\n",
      "WARNING: Ignoring invalid distribution -arkupsafe (c:\\programdata\\anaconda3\\lib\\site-packages)\n",
      "WARNING: Ignoring invalid distribution -yptography (c:\\programdata\\anaconda3\\lib\\site-packages)\n",
      "WARNING: Ignoring invalid distribution -llib3 (c:\\programdata\\anaconda3\\lib\\site-packages)\n",
      "WARNING: Ignoring invalid distribution -ryptography (c:\\programdata\\anaconda3\\lib\\site-packages)\n",
      "WARNING: Ignoring invalid distribution -rllib3 (c:\\programdata\\anaconda3\\lib\\site-packages)\n",
      "WARNING: Ignoring invalid distribution -ip (c:\\programdata\\anaconda3\\lib\\site-packages)\n",
      "WARNING: Ignoring invalid distribution - (c:\\programdata\\anaconda3\\lib\\site-packages)\n",
      "WARNING: Ignoring invalid distribution -arkupsafe (c:\\programdata\\anaconda3\\lib\\site-packages)\n",
      "WARNING: Ignoring invalid distribution -yptography (c:\\programdata\\anaconda3\\lib\\site-packages)\n",
      "WARNING: Ignoring invalid distribution -llib3 (c:\\programdata\\anaconda3\\lib\\site-packages)\n",
      "WARNING: Ignoring invalid distribution -ryptography (c:\\programdata\\anaconda3\\lib\\site-packages)\n",
      "WARNING: Ignoring invalid distribution -rllib3 (c:\\programdata\\anaconda3\\lib\\site-packages)\n",
      "WARNING: Ignoring invalid distribution -ip (c:\\programdata\\anaconda3\\lib\\site-packages)\n",
      "WARNING: Ignoring invalid distribution - (c:\\programdata\\anaconda3\\lib\\site-packages)\n",
      "WARNING: Ignoring invalid distribution -arkupsafe (c:\\programdata\\anaconda3\\lib\\site-packages)\n",
      "WARNING: Ignoring invalid distribution -yptography (c:\\programdata\\anaconda3\\lib\\site-packages)\n",
      "WARNING: Ignoring invalid distribution -llib3 (c:\\programdata\\anaconda3\\lib\\site-packages)\n",
      "WARNING: Ignoring invalid distribution -ryptography (c:\\programdata\\anaconda3\\lib\\site-packages)\n",
      "WARNING: Ignoring invalid distribution -rllib3 (c:\\programdata\\anaconda3\\lib\\site-packages)\n",
      "WARNING: Ignoring invalid distribution -ip (c:\\programdata\\anaconda3\\lib\\site-packages)\n",
      "WARNING: Ignoring invalid distribution - (c:\\programdata\\anaconda3\\lib\\site-packages)\n",
      "WARNING: Ignoring invalid distribution -arkupsafe (c:\\programdata\\anaconda3\\lib\\site-packages)\n"
     ]
    }
   ],
   "source": [
    "!pip install yfinance"
   ]
  },
  {
   "cell_type": "code",
   "execution_count": 6,
   "id": "2d60102e",
   "metadata": {},
   "outputs": [],
   "source": [
    "import yfinance as yf\n",
    "import datetime \n",
    "from datetime import date\n",
    "import matplotlib.pyplot as pyplot\n",
    "import urllib.request\n",
    "import json\n",
    "\n",
    "from sklearn.linear_model import LinearRegression\n",
    "\n",
    "import pandas as pd\n",
    "import numpy as np"
   ]
  },
  {
   "cell_type": "markdown",
   "id": "dd417b22",
   "metadata": {},
   "source": [
    "In our case, we will use Walt Disney (NYSE: DIS) as our sample dataset"
   ]
  },
  {
   "cell_type": "code",
   "execution_count": 3,
   "id": "d58ba4f3",
   "metadata": {},
   "outputs": [
    {
     "name": "stdout",
     "output_type": "stream",
     "text": [
      "Please select your stock/share/forex: DIS\n"
     ]
    }
   ],
   "source": [
    "stock = input(\"Please select your stock/share/forex: \")\n",
    "today = date.today()"
   ]
  },
  {
   "cell_type": "code",
   "execution_count": 7,
   "id": "e5961d6d",
   "metadata": {
    "scrolled": true
   },
   "outputs": [
    {
     "name": "stdout",
     "output_type": "stream",
     "text": [
      "[*********************100%***********************]  1 of 1 completed\n",
      "3242\n"
     ]
    },
    {
     "data": {
      "text/html": [
       "<div>\n",
       "<style scoped>\n",
       "    .dataframe tbody tr th:only-of-type {\n",
       "        vertical-align: middle;\n",
       "    }\n",
       "\n",
       "    .dataframe tbody tr th {\n",
       "        vertical-align: top;\n",
       "    }\n",
       "\n",
       "    .dataframe thead th {\n",
       "        text-align: right;\n",
       "    }\n",
       "</style>\n",
       "<table border=\"1\" class=\"dataframe\">\n",
       "  <thead>\n",
       "    <tr style=\"text-align: right;\">\n",
       "      <th></th>\n",
       "      <th>Close</th>\n",
       "    </tr>\n",
       "    <tr>\n",
       "      <th>Date</th>\n",
       "      <th></th>\n",
       "    </tr>\n",
       "  </thead>\n",
       "  <tbody>\n",
       "    <tr>\n",
       "      <th>2010-01-04</th>\n",
       "      <td>27.933920</td>\n",
       "    </tr>\n",
       "    <tr>\n",
       "      <th>2010-01-05</th>\n",
       "      <td>27.864241</td>\n",
       "    </tr>\n",
       "    <tr>\n",
       "      <th>2010-01-06</th>\n",
       "      <td>27.716166</td>\n",
       "    </tr>\n",
       "    <tr>\n",
       "      <th>2010-01-07</th>\n",
       "      <td>27.724874</td>\n",
       "    </tr>\n",
       "    <tr>\n",
       "      <th>2010-01-08</th>\n",
       "      <td>27.768425</td>\n",
       "    </tr>\n",
       "  </tbody>\n",
       "</table>\n",
       "</div>"
      ],
      "text/plain": [
       "                Close\n",
       "Date                 \n",
       "2010-01-04  27.933920\n",
       "2010-01-05  27.864241\n",
       "2010-01-06  27.716166\n",
       "2010-01-07  27.724874\n",
       "2010-01-08  27.768425"
      ]
     },
     "execution_count": 7,
     "metadata": {},
     "output_type": "execute_result"
    }
   ],
   "source": [
    "dataframe = yf.download(stock, \"2010-01-01\", today, auto_adjust=True)\n",
    "dataframe = dataframe[[\"Close\"]] #only require close for prediction\n",
    "dataframe = dataframe.dropna()\n",
    "print(len(dataframe))\n",
    "dataframe.head()"
   ]
  },
  {
   "cell_type": "code",
   "execution_count": 8,
   "id": "67ac0521",
   "metadata": {},
   "outputs": [],
   "source": [
    "def get_yahoo_shortname(symbol):\n",
    "    response = urllib.request.urlopen(f'https://query2.finance.yahoo.com/v1/finance/search?q={symbol}')\n",
    "    content = response.read()\n",
    "    data = json.loads(content.decode('utf8'))['quotes'][0]['shortname']\n",
    "    return data"
   ]
  },
  {
   "cell_type": "code",
   "execution_count": 9,
   "id": "1c91142c",
   "metadata": {},
   "outputs": [],
   "source": [
    "name = get_yahoo_shortname(stock)"
   ]
  },
  {
   "cell_type": "code",
   "execution_count": 10,
   "id": "c30269fe",
   "metadata": {},
   "outputs": [
    {
     "data": {
      "text/plain": [
       "Text(0.5, 1.0, 'Walt Disney Company (The) (DIS) - 2010 - 2022')"
      ]
     },
     "execution_count": 10,
     "metadata": {},
     "output_type": "execute_result"
    },
    {
     "data": {
      "image/png": "[encoded data removed]",
      "text/plain": [
       "<Figure size 720x360 with 1 Axes>"
      ]
     },
     "metadata": {
      "needs_background": "light"
     },
     "output_type": "display_data"
    }
   ],
   "source": [
    "# visualize the dataset\n",
    "dataframe.Close.plot(figsize = (10, 5), color = \"g\")\n",
    "pyplot.ylabel(name+\" Stock Value\")\n",
    "pyplot.title(name+\" (\"+stock+\") - 2010 - \"+today.strftime(\"%Y\"))"
   ]
  },
  {
   "cell_type": "markdown",
   "id": "30b2f767",
   "metadata": {},
   "source": [
    "Define variables"
   ]
  },
  {
   "cell_type": "code",
   "execution_count": 11,
   "id": "b7dbe02a",
   "metadata": {},
   "outputs": [],
   "source": [
    "dataframe[\"five_days_moving_avg\"] = dataframe[\"Close\"].rolling(window=5).mean()\n",
    "dataframe[\"twenty_days_moving_avg\"] = dataframe[\"Close\"].rolling(window=20).mean()\n",
    "\n",
    "dataframe = dataframe.dropna()\n",
    "\n",
    "X = dataframe[[\"five_days_moving_avg\", \"twenty_days_moving_avg\"]]\n",
    "\n",
    "dataframe[\"value_next_day\"] = dataframe[\"Close\"].shift(-1)\n",
    "dataframe = dataframe.dropna()\n",
    "\n",
    "y = dataframe[\"value_next_day\"]"
   ]
  },
  {
   "cell_type": "markdown",
   "id": "637f8a26",
   "metadata": {},
   "source": [
    "Split Dataset into Train and Test"
   ]
  },
  {
   "cell_type": "code",
   "execution_count": 12,
   "id": "f2b1b256",
   "metadata": {},
   "outputs": [],
   "source": [
    "split_index = 0.8 # Split data into 80:20\n",
    "\n",
    "split_index = split_index * len(dataframe)\n",
    "\n",
    "split_index = int(split_index)\n",
    "\n",
    "X_train = X[:split_index]\n",
    "y_train = y[:split_index]\n",
    "\n",
    "X_test = X[split_index:]\n",
    "y_test = y[split_index:]"
   ]
  },
  {
   "cell_type": "markdown",
   "id": "4f20c65d",
   "metadata": {},
   "source": [
    "Prepare Linear Regression Model"
   ]
  },
  {
   "cell_type": "code",
   "execution_count": 13,
   "id": "2452718d",
   "metadata": {},
   "outputs": [
    {
     "name": "stdout",
     "output_type": "stream",
     "text": [
      "1.1961864421733819\n",
      "-0.19847726363483353\n"
     ]
    }
   ],
   "source": [
    "model = LinearRegression()\n",
    "model = model.fit(X_train, y_train)\n",
    "five_day_moving_avg = model.coef_[0]\n",
    "twenty_day_moving_avg = model.coef_[1]\n",
    "\n",
    "print(five_day_moving_avg)\n",
    "print(twenty_day_moving_avg)"
   ]
  },
  {
   "cell_type": "code",
   "execution_count": 14,
   "id": "b813d1d9",
   "metadata": {},
   "outputs": [
    {
     "name": "stdout",
     "output_type": "stream",
     "text": [
      "0.22810346831205663\n"
     ]
    }
   ],
   "source": [
    "constant = model.intercept_\n",
    "print(constant)"
   ]
  },
  {
   "cell_type": "markdown",
   "id": "4eb2851a",
   "metadata": {},
   "source": [
    "Make prediction on Stock Prices"
   ]
  },
  {
   "cell_type": "code",
   "execution_count": 15,
   "id": "16005846",
   "metadata": {},
   "outputs": [
    {
     "data": {
      "text/plain": [
       "Text(0, 0.5, 'Walt Disney Company (The) Stock Value')"
      ]
     },
     "execution_count": 15,
     "metadata": {},
     "output_type": "execute_result"
    },
    {
     "data": {
      "image/png": "[encoded data removed]",
      "text/plain": [
       "<Figure size 720x360 with 1 Axes>"
      ]
     },
     "metadata": {
      "needs_background": "light"
     },
     "output_type": "display_data"
    }
   ],
   "source": [
    "test_output = model.predict(X_test)\n",
    "\n",
    "y_test = y[(split_index - 1):]\n",
    "\n",
    "test_output = pd.DataFrame(test_output, index= y_test.index, columns = [\"value\"])\n",
    "\n",
    "test_output.plot(figsize = (10, 5), color = \"g\")\n",
    "y_test.plot(color = \"orange\")\n",
    "\n",
    "pyplot.legend([\"model output\", \"actual value\"])\n",
    "pyplot.ylabel(name+\" Stock Value\")"
   ]
  },
  {
   "cell_type": "markdown",
   "id": "a7d14271",
   "metadata": {},
   "source": [
    "Calculate Model Accuracy"
   ]
  },
  {
   "cell_type": "code",
   "execution_count": 16,
   "id": "fad97578",
   "metadata": {},
   "outputs": [
    {
     "name": "stdout",
     "output_type": "stream",
     "text": [
      "99.07337107232878\n"
     ]
    }
   ],
   "source": [
    "score = model.score(X[split_index:], y[(split_index -1):])\n",
    "\n",
    "score = score*100\n",
    "\n",
    "print(score)"
   ]
  },
  {
   "cell_type": "markdown",
   "id": "363bb745",
   "metadata": {},
   "source": [
    "This model are able to achieve 99% of accuracy which show a good pattern"
   ]
  },
  {
   "cell_type": "code",
   "execution_count": 17,
   "id": "eb969180",
   "metadata": {},
   "outputs": [
    {
     "data": {
      "text/plain": [
       "Text(0, 0.5, 'Cumulative Returns')"
      ]
     },
     "execution_count": 17,
     "metadata": {},
     "output_type": "execute_result"
    },
    {
     "data": {
      "image/png": "[encoded data removed]",
      "text/plain": [
       "<Figure size 720x360 with 1 Axes>"
      ]
     },
     "metadata": {
      "needs_background": "light"
     },
     "output_type": "display_data"
    }
   ],
   "source": [
    "stocks = pd.DataFrame()\n",
    "stocks[\"value\"] = dataframe[split_index:][\"Close\"]\n",
    "\n",
    "stocks[\"predicted_tomorrow_value\"] = test_output\n",
    "\n",
    "stocks[\"actual_tomorrow_value\"] = y_test\n",
    "\n",
    "stocks[\"returns\"] = stocks[\"value\"].pct_change().shift(-1) # pct = percentage\n",
    "\n",
    "stocks[\"strategy\"] = np.where(stocks.predicted_tomorrow_value.shift(1) < stocks.predicted_tomorrow_value, 1, 0)\n",
    "\n",
    "stocks[\"strategy_returns\"] = stocks.strategy * stocks[\"returns\"]\n",
    "\n",
    "cumulative_product = (stocks[\"strategy_returns\"]+1).cumprod()\n",
    "\n",
    "cumulative_product.plot(figsize = (10, 5))\n",
    "pyplot.ylabel(\"Cumulative Returns\")"
   ]
  },
  {
   "cell_type": "code",
   "execution_count": 18,
   "id": "bf58fc21",
   "metadata": {},
   "outputs": [
    {
     "name": "stdout",
     "output_type": "stream",
     "text": [
      "                 value  predicted_tomorrow_value  actual_tomorrow_value  \\\n",
      "Date                                                                      \n",
      "2020-04-28  106.209999                105.950315             112.250000   \n",
      "2020-04-29  112.250000                107.529569             108.150002   \n",
      "2020-04-30  108.150002                108.476031             105.500000   \n",
      "2020-05-01  105.500000                107.694736             103.180000   \n",
      "2020-05-04  103.180000                106.447977             101.059998   \n",
      "\n",
      "             returns  strategy  strategy_returns  \n",
      "Date                                              \n",
      "2020-04-28  0.056868         0          0.000000  \n",
      "2020-04-29 -0.036526         1         -0.036526  \n",
      "2020-04-30 -0.024503         1         -0.024503  \n",
      "2020-05-01 -0.021991         0         -0.000000  \n",
      "2020-05-04 -0.020547         0         -0.000000  \n"
     ]
    }
   ],
   "source": [
    "print(stocks.head())"
   ]
  },
  {
   "cell_type": "markdown",
   "id": "55d1b01c",
   "metadata": {},
   "source": [
    "Make predictions whether to buy or to sell"
   ]
  },
  {
   "cell_type": "code",
   "execution_count": 20,
   "id": "f1e2b5bd",
   "metadata": {},
   "outputs": [
    {
     "name": "stdout",
     "output_type": "stream",
     "text": [
      "[*********************100%***********************]  1 of 1 completed\n",
      "                 Open       High        Low      Close    Volume  \\\n",
      "Date                                                               \n",
      "2010-02-01  25.782478  25.930553  25.556010  25.712795  10894200   \n",
      "2010-02-02  25.721504  26.139598  25.451484  26.113466  10100900   \n",
      "2010-02-03  26.061206  26.888685  25.947973  26.784161  15976200   \n",
      "2010-02-04  26.374779  26.557695  25.834740  25.843451  13407100   \n",
      "2010-02-05  25.808608  25.991525  25.251150  25.730217  11956100   \n",
      "...               ...        ...        ...        ...       ...   \n",
      "2022-11-10  89.750000  90.500000  87.610001  90.459999  36968100   \n",
      "2022-11-11  91.580002  95.580002  91.099998  95.010002  22320900   \n",
      "2022-11-14  95.849998  96.620003  94.209999  94.279999  20598000   \n",
      "2022-11-15  96.000000  97.180000  93.699997  95.510002  15793300   \n",
      "2022-11-16  95.220001  94.769997  93.720001  94.230003   4441783   \n",
      "\n",
      "            five_days_avg  twenty_days_avg  predicted_stock_value   strategy  \n",
      "Date                                                                          \n",
      "2010-02-01      25.677954        26.775017              25.629492  Hold/Sell  \n",
      "2010-02-02      25.733699        26.683994              25.714240        Buy  \n",
      "2010-02-03      25.982813        26.629990              26.022945        Buy  \n",
      "2010-02-04      26.038559        26.536355              26.108212        Buy  \n",
      "2010-02-05      26.036818        26.436622              26.125924        Buy  \n",
      "...                   ...              ...                    ...        ...  \n",
      "2022-11-10      95.424001       100.085500              94.508303  Hold/Sell  \n",
      "2022-11-11      94.510001       100.113500              93.409431  Hold/Sell  \n",
      "2022-11-14      93.280000        99.961000              91.968389  Hold/Sell  \n",
      "2022-11-15      92.402000        99.812500              90.947612  Hold/Sell  \n",
      "2022-11-16      93.898001        99.574500              92.784345        Buy  \n",
      "\n",
      "[3223 rows x 9 columns]\n"
     ]
    },
    {
     "name": "stderr",
     "output_type": "stream",
     "text": [
      "C:\\Users\\User\\AppData\\Local\\Temp/ipykernel_22656/1755588265.py:8: SettingWithCopyWarning: \n",
      "A value is trying to be set on a copy of a slice from a DataFrame.\n",
      "Try using .loc[row_indexer,col_indexer] = value instead\n",
      "\n",
      "See the caveats in the documentation: https://pandas.pydata.org/pandas-docs/stable/user_guide/indexing.html#returning-a-view-versus-a-copy\n",
      "  dataset[\"predicted_stock_value\"] = model.predict(dataset[[\"five_days_avg\", \"twenty_days_avg\"]])\n",
      "C:\\Users\\User\\AppData\\Local\\Temp/ipykernel_22656/1755588265.py:10: SettingWithCopyWarning: \n",
      "A value is trying to be set on a copy of a slice from a DataFrame.\n",
      "Try using .loc[row_indexer,col_indexer] = value instead\n",
      "\n",
      "See the caveats in the documentation: https://pandas.pydata.org/pandas-docs/stable/user_guide/indexing.html#returning-a-view-versus-a-copy\n",
      "  dataset[\"strategy\"] = np.where(dataset.predicted_stock_value.shift(1) < dataset.predicted_stock_value, \"Buy\", \"Hold/Sell\")\n"
     ]
    }
   ],
   "source": [
    "dataset = yf.download(stock, \"2010-01-01\", today, auto_adjust=True)\n",
    "\n",
    "dataset[\"five_days_avg\"] = dataset[\"Close\"].rolling(window=5).mean()\n",
    "dataset[\"twenty_days_avg\"] = dataset[\"Close\"].rolling(window=20).mean()\n",
    "\n",
    "dataset = dataset.dropna()\n",
    "\n",
    "dataset[\"predicted_stock_value\"] = model.predict(dataset[[\"five_days_avg\", \"twenty_days_avg\"]])\n",
    "\n",
    "dataset[\"strategy\"] = np.where(dataset.predicted_stock_value.shift(1) < dataset.predicted_stock_value, \"Buy\", \"Hold/Sell\")\n",
    "\n",
    "print(dataset)"
   ]
  },
  {
   "cell_type": "code",
   "execution_count": null,
   "id": "1cdd3c5b",
   "metadata": {},
   "outputs": [],
   "source": []
  },
  {
   "cell_type": "code",
   "execution_count": null,
   "id": "5d1796b0",
   "metadata": {},
   "outputs": [],
   "source": []
  },
  {
   "cell_type": "code",
   "execution_count": null,
   "id": "fc985ebb",
   "metadata": {},
   "outputs": [],
   "source": []
  },
  {
   "cell_type": "code",
   "execution_count": null,
   "id": "66804cb5",
   "metadata": {},
   "outputs": [],
   "source": []
  },
  {
   "cell_type": "code",
   "execution_count": null,
   "id": "e5a54391",
   "metadata": {},
   "outputs": [],
   "source": []
  }
 ],
 "metadata": {
  "kernelspec": {
   "display_name": "Python 3 (ipykernel)",
   "language": "python",
   "name": "python3"
  },
  "language_info": {
   "codemirror_mode": {
    "name": "ipython",
    "version": 3
   },
   "file_extension": ".py",
   "mimetype": "text/x-python",
   "name": "python",
   "nbconvert_exporter": "python",
   "pygments_lexer": "ipython3",
   "version": "3.9.7"
  }
 },
 "nbformat": 4,
 "nbformat_minor": 5
}
