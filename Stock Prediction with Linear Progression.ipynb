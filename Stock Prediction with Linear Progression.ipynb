{
 "cells": [
  {
   "cell_type": "markdown",
   "id": "543b7a10",
   "metadata": {},
   "source": [
    "## Stock Prediction with Linear Regression"
   ]
  },
  {
   "cell_type": "markdown",
   "id": "4ba1c889",
   "metadata": {},
   "source": [
    "Scrape Data via API. We will use yfinance"
   ]
  },
  {
   "cell_type": "code",
   "execution_count": 1,
   "id": "60024b88",
   "metadata": {
    "collapsed": true
   },
   "outputs": [
    {
     "name": "stdout",
     "output_type": "stream",
     "text": [
      "Requirement already satisfied: yfinance in c:\\programdata\\anaconda3\\lib\\site-packages (0.1.87)\n",
      "Requirement already satisfied: pandas>=0.24.0 in c:\\programdata\\anaconda3\\lib\\site-packages (from yfinance) (1.3.4)\n",
      "Requirement already satisfied: appdirs>=1.4.4 in c:\\programdata\\anaconda3\\lib\\site-packages (from yfinance) (1.4.4)\n",
      "Requirement already satisfied: requests>=2.26 in c:\\programdata\\anaconda3\\lib\\site-packages (from yfinance) (2.28.1)\n",
      "Requirement already satisfied: numpy>=1.15 in c:\\programdata\\anaconda3\\lib\\site-packages (from yfinance) (1.20.3)\n",
      "Requirement already satisfied: multitasking>=0.0.7 in c:\\programdata\\anaconda3\\lib\\site-packages (from yfinance) (0.0.11)\n",
      "Requirement already satisfied: lxml>=4.5.1 in c:\\programdata\\anaconda3\\lib\\site-packages (from yfinance) (4.6.3)\n",
      "Requirement already satisfied: python-dateutil>=2.7.3 in c:\\programdata\\anaconda3\\lib\\site-packages (from pandas>=0.24.0->yfinance) (2.8.2)\n",
      "Requirement already satisfied: pytz>=2017.3 in c:\\programdata\\anaconda3\\lib\\site-packages (from pandas>=0.24.0->yfinance) (2021.3)\n",
      "Requirement already satisfied: charset-normalizer<3,>=2 in c:\\programdata\\anaconda3\\lib\\site-packages (from requests>=2.26->yfinance) (2.0.4)\n",
      "Requirement already satisfied: certifi>=2017.4.17 in c:\\programdata\\anaconda3\\lib\\site-packages (from requests>=2.26->yfinance) (2021.10.8)\n",
      "Requirement already satisfied: idna<4,>=2.5 in c:\\programdata\\anaconda3\\lib\\site-packages (from requests>=2.26->yfinance) (2.6)\n",
      "Requirement already satisfied: urllib3<1.27,>=1.21.1 in c:\\programdata\\anaconda3\\lib\\site-packages (from requests>=2.26->yfinance) (1.22)\n",
      "Requirement already satisfied: six>=1.5 in c:\\programdata\\anaconda3\\lib\\site-packages (from python-dateutil>=2.7.3->pandas>=0.24.0->yfinance) (1.16.0)\n"
     ]
    },
    {
     "name": "stderr",
     "output_type": "stream",
     "text": [
      "WARNING: Ignoring invalid distribution -yptography (c:\\programdata\\anaconda3\\lib\\site-packages)\n",
      "WARNING: Ignoring invalid distribution -llib3 (c:\\programdata\\anaconda3\\lib\\site-packages)\n",
      "WARNING: Ignoring invalid distribution -ryptography (c:\\programdata\\anaconda3\\lib\\site-packages)\n",
      "WARNING: Ignoring invalid distribution -rllib3 (c:\\programdata\\anaconda3\\lib\\site-packages)\n",
      "WARNING: Ignoring invalid distribution -ip (c:\\programdata\\anaconda3\\lib\\site-packages)\n",
      "WARNING: Ignoring invalid distribution - (c:\\programdata\\anaconda3\\lib\\site-packages)\n",
      "WARNING: Ignoring invalid distribution -arkupsafe (c:\\programdata\\anaconda3\\lib\\site-packages)\n",
      "WARNING: Ignoring invalid distribution -yptography (c:\\programdata\\anaconda3\\lib\\site-packages)\n",
      "WARNING: Ignoring invalid distribution -llib3 (c:\\programdata\\anaconda3\\lib\\site-packages)\n",
      "WARNING: Ignoring invalid distribution -ryptography (c:\\programdata\\anaconda3\\lib\\site-packages)\n",
      "WARNING: Ignoring invalid distribution -rllib3 (c:\\programdata\\anaconda3\\lib\\site-packages)\n",
      "WARNING: Ignoring invalid distribution -ip (c:\\programdata\\anaconda3\\lib\\site-packages)\n",
      "WARNING: Ignoring invalid distribution - (c:\\programdata\\anaconda3\\lib\\site-packages)\n",
      "WARNING: Ignoring invalid distribution -arkupsafe (c:\\programdata\\anaconda3\\lib\\site-packages)\n",
      "WARNING: Ignoring invalid distribution -yptography (c:\\programdata\\anaconda3\\lib\\site-packages)\n",
      "WARNING: Ignoring invalid distribution -llib3 (c:\\programdata\\anaconda3\\lib\\site-packages)\n",
      "WARNING: Ignoring invalid distribution -ryptography (c:\\programdata\\anaconda3\\lib\\site-packages)\n",
      "WARNING: Ignoring invalid distribution -rllib3 (c:\\programdata\\anaconda3\\lib\\site-packages)\n",
      "WARNING: Ignoring invalid distribution -ip (c:\\programdata\\anaconda3\\lib\\site-packages)\n",
      "WARNING: Ignoring invalid distribution - (c:\\programdata\\anaconda3\\lib\\site-packages)\n",
      "WARNING: Ignoring invalid distribution -arkupsafe (c:\\programdata\\anaconda3\\lib\\site-packages)\n",
      "WARNING: Ignoring invalid distribution -yptography (c:\\programdata\\anaconda3\\lib\\site-packages)\n",
      "WARNING: Ignoring invalid distribution -llib3 (c:\\programdata\\anaconda3\\lib\\site-packages)\n",
      "WARNING: Ignoring invalid distribution -ryptography (c:\\programdata\\anaconda3\\lib\\site-packages)\n",
      "WARNING: Ignoring invalid distribution -rllib3 (c:\\programdata\\anaconda3\\lib\\site-packages)\n",
      "WARNING: Ignoring invalid distribution -ip (c:\\programdata\\anaconda3\\lib\\site-packages)\n",
      "WARNING: Ignoring invalid distribution - (c:\\programdata\\anaconda3\\lib\\site-packages)\n",
      "WARNING: Ignoring invalid distribution -arkupsafe (c:\\programdata\\anaconda3\\lib\\site-packages)\n",
      "WARNING: Ignoring invalid distribution -yptography (c:\\programdata\\anaconda3\\lib\\site-packages)\n",
      "WARNING: Ignoring invalid distribution -llib3 (c:\\programdata\\anaconda3\\lib\\site-packages)\n",
      "WARNING: Ignoring invalid distribution -ryptography (c:\\programdata\\anaconda3\\lib\\site-packages)\n",
      "WARNING: Ignoring invalid distribution -rllib3 (c:\\programdata\\anaconda3\\lib\\site-packages)\n",
      "WARNING: Ignoring invalid distribution -ip (c:\\programdata\\anaconda3\\lib\\site-packages)\n",
      "WARNING: Ignoring invalid distribution - (c:\\programdata\\anaconda3\\lib\\site-packages)\n",
      "WARNING: Ignoring invalid distribution -arkupsafe (c:\\programdata\\anaconda3\\lib\\site-packages)\n",
      "WARNING: Ignoring invalid distribution -yptography (c:\\programdata\\anaconda3\\lib\\site-packages)\n",
      "WARNING: Ignoring invalid distribution -llib3 (c:\\programdata\\anaconda3\\lib\\site-packages)\n",
      "WARNING: Ignoring invalid distribution -ryptography (c:\\programdata\\anaconda3\\lib\\site-packages)\n",
      "WARNING: Ignoring invalid distribution -rllib3 (c:\\programdata\\anaconda3\\lib\\site-packages)\n",
      "WARNING: Ignoring invalid distribution -ip (c:\\programdata\\anaconda3\\lib\\site-packages)\n",
      "WARNING: Ignoring invalid distribution - (c:\\programdata\\anaconda3\\lib\\site-packages)\n",
      "WARNING: Ignoring invalid distribution -arkupsafe (c:\\programdata\\anaconda3\\lib\\site-packages)\n"
     ]
    }
   ],
   "source": [
    "!pip install yfinance"
   ]
  },
  {
   "cell_type": "code",
   "execution_count": 1,
   "id": "b36cd9b9",
   "metadata": {},
   "outputs": [],
   "source": [
    "import yfinance as yf\n",
    "import datetime \n",
    "from datetime import date, datetime, timedelta\n",
    "import matplotlib.pyplot as pyplot\n",
    "import urllib.request\n",
    "import json\n",
    "\n",
    "from sklearn.linear_model import LinearRegression\n",
    "\n",
    "import pandas as pd\n",
    "import numpy as np\n",
    "\n",
    "import streamlit as st\n",
    "\n",
    "from csv import writer, DictWriter\n",
    "\n",
    "#Import UI\n",
    "import ipywidgets as widgets\n",
    "from IPython.display import display, clear_output"
   ]
  },
  {
   "cell_type": "markdown",
   "id": "5618aecc",
   "metadata": {},
   "source": [
    "In our case, we will use Walt Disney (NYSE: DIS) as our sample dataset"
   ]
  },
  {
   "cell_type": "code",
   "execution_count": 3,
   "id": "369d5d63",
   "metadata": {},
   "outputs": [
    {
     "name": "stdout",
     "output_type": "stream",
     "text": [
      "Please select your stock/share/forex: DIS\n"
     ]
    }
   ],
   "source": [
    "stock = input(\"Please select your stock/share/forex: \")\n",
    "today = date.today()"
   ]
  },
  {
   "cell_type": "code",
   "execution_count": 4,
   "id": "5e913396",
   "metadata": {
    "scrolled": true
   },
   "outputs": [
    {
     "name": "stdout",
     "output_type": "stream",
     "text": [
      "[*********************100%***********************]  1 of 1 completed\n",
      "3253\n"
     ]
    },
    {
     "data": {
      "text/html": [
       "<div>\n",
       "<style scoped>\n",
       "    .dataframe tbody tr th:only-of-type {\n",
       "        vertical-align: middle;\n",
       "    }\n",
       "\n",
       "    .dataframe tbody tr th {\n",
       "        vertical-align: top;\n",
       "    }\n",
       "\n",
       "    .dataframe thead th {\n",
       "        text-align: right;\n",
       "    }\n",
       "</style>\n",
       "<table border=\"1\" class=\"dataframe\">\n",
       "  <thead>\n",
       "    <tr style=\"text-align: right;\">\n",
       "      <th></th>\n",
       "      <th>Close</th>\n",
       "    </tr>\n",
       "    <tr>\n",
       "      <th>Date</th>\n",
       "      <th></th>\n",
       "    </tr>\n",
       "  </thead>\n",
       "  <tbody>\n",
       "    <tr>\n",
       "      <th>2010-01-04</th>\n",
       "      <td>27.933918</td>\n",
       "    </tr>\n",
       "    <tr>\n",
       "      <th>2010-01-05</th>\n",
       "      <td>27.864237</td>\n",
       "    </tr>\n",
       "    <tr>\n",
       "      <th>2010-01-06</th>\n",
       "      <td>27.716166</td>\n",
       "    </tr>\n",
       "    <tr>\n",
       "      <th>2010-01-07</th>\n",
       "      <td>27.724873</td>\n",
       "    </tr>\n",
       "    <tr>\n",
       "      <th>2010-01-08</th>\n",
       "      <td>27.768425</td>\n",
       "    </tr>\n",
       "  </tbody>\n",
       "</table>\n",
       "</div>"
      ],
      "text/plain": [
       "                Close\n",
       "Date                 \n",
       "2010-01-04  27.933918\n",
       "2010-01-05  27.864237\n",
       "2010-01-06  27.716166\n",
       "2010-01-07  27.724873\n",
       "2010-01-08  27.768425"
      ]
     },
     "execution_count": 4,
     "metadata": {},
     "output_type": "execute_result"
    }
   ],
   "source": [
    "dataframe = yf.download(stock, \"2010-01-01\", today, auto_adjust=True)\n",
    "dataframe = dataframe[[\"Close\"]] #only require close for prediction\n",
    "dataframe = dataframe.dropna()\n",
    "print(len(dataframe))\n",
    "dataframe.head()"
   ]
  },
  {
   "cell_type": "code",
   "execution_count": 5,
   "id": "68bbc27e",
   "metadata": {},
   "outputs": [],
   "source": [
    "def get_yahoo_shortname(symbol):\n",
    "    response = urllib.request.urlopen(f'https://query2.finance.yahoo.com/v1/finance/search?q={symbol}')\n",
    "    content = response.read()\n",
    "    data = json.loads(content.decode('utf8'))['quotes'][0]['shortname']\n",
    "    return data"
   ]
  },
  {
   "cell_type": "code",
   "execution_count": 6,
   "id": "24546a6e",
   "metadata": {},
   "outputs": [],
   "source": [
    "name = get_yahoo_shortname(stock)"
   ]
  },
  {
   "cell_type": "code",
   "execution_count": 8,
   "id": "32c645bc",
   "metadata": {},
   "outputs": [
    {
     "data": {
      "text/plain": [
       "Text(0.5, 1.0, 'Walt Disney Company (The) (DIS) - 2010 - 2022')"
      ]
     },
     "execution_count": 8,
     "metadata": {},
     "output_type": "execute_result"
    },
    {
     "data": {
      "image/png": "[encoded data removed]",
      "text/plain": [
       "<Figure size 720x360 with 1 Axes>"
      ]
     },
     "metadata": {
      "needs_background": "light"
     },
     "output_type": "display_data"
    }
   ],
   "source": [
    "# visualize the dataset\n",
    "dataframe.Close.plot(figsize = (10, 5), color = \"g\")\n",
    "pyplot.ylabel(name+\" Stock Value\")\n",
    "pyplot.title(name+\" (\"+stock+\") - 2010 - \"+today.strftime(\"%Y\"))"
   ]
  },
  {
   "cell_type": "markdown",
   "id": "f7f97857",
   "metadata": {},
   "source": [
    "Define variables"
   ]
  },
  {
   "cell_type": "code",
   "execution_count": 11,
   "id": "8bcd5799",
   "metadata": {},
   "outputs": [],
   "source": [
    "dataframe[\"five_days_moving_avg\"] = dataframe[\"Close\"].rolling(window=5).mean()\n",
    "dataframe[\"twenty_days_moving_avg\"] = dataframe[\"Close\"].rolling(window=20).mean()\n",
    "\n",
    "dataframe = dataframe.dropna()\n",
    "\n",
    "X = dataframe[[\"five_days_moving_avg\", \"twenty_days_moving_avg\"]]\n",
    "\n",
    "dataframe[\"value_next_day\"] = dataframe[\"Close\"].shift(-1)\n",
    "dataframe = dataframe.dropna()\n",
    "\n",
    "y = dataframe[\"value_next_day\"]"
   ]
  },
  {
   "cell_type": "markdown",
   "id": "46178fed",
   "metadata": {},
   "source": [
    "Split Dataset into Train and Test"
   ]
  },
  {
   "cell_type": "code",
   "execution_count": 12,
   "id": "01ac1a5a",
   "metadata": {},
   "outputs": [],
   "source": [
    "split_index = 0.8 # Split data into 80:20\n",
    "\n",
    "split_index = split_index * len(dataframe)\n",
    "\n",
    "split_index = int(split_index)\n",
    "\n",
    "X_train = X[:split_index]\n",
    "y_train = y[:split_index]\n",
    "\n",
    "X_test = X[split_index:]\n",
    "y_test = y[split_index:]"
   ]
  },
  {
   "cell_type": "markdown",
   "id": "71e05ab0",
   "metadata": {},
   "source": [
    "Prepare Linear Regression Model"
   ]
  },
  {
   "cell_type": "code",
   "execution_count": 13,
   "id": "f6cff21d",
   "metadata": {},
   "outputs": [
    {
     "name": "stdout",
     "output_type": "stream",
     "text": [
      "1.1928093006070704\n",
      "-0.1950919528794731\n"
     ]
    }
   ],
   "source": [
    "model = LinearRegression()\n",
    "model = model.fit(X_train, y_train)\n",
    "five_day_moving_avg = model.coef_[0]\n",
    "twenty_day_moving_avg = model.coef_[1]\n",
    "\n",
    "print(five_day_moving_avg)\n",
    "print(twenty_day_moving_avg)"
   ]
  },
  {
   "cell_type": "code",
   "execution_count": 14,
   "id": "5d944b3e",
   "metadata": {},
   "outputs": [
    {
     "name": "stdout",
     "output_type": "stream",
     "text": [
      "0.22744589603645693\n"
     ]
    }
   ],
   "source": [
    "constant = model.intercept_\n",
    "print(constant)"
   ]
  },
  {
   "cell_type": "markdown",
   "id": "5a05abd5",
   "metadata": {},
   "source": [
    "Make prediction on Stock Prices"
   ]
  },
  {
   "cell_type": "code",
   "execution_count": 17,
   "id": "fd5b5444",
   "metadata": {},
   "outputs": [
    {
     "data": {
      "text/plain": [
       "Text(0, 0.5, 'Walt Disney Company (The) Stock Value')"
      ]
     },
     "execution_count": 17,
     "metadata": {},
     "output_type": "execute_result"
    },
    {
     "data": {
      "image/png": "[encoded data removed]",
      "text/plain": [
       "<Figure size 720x360 with 1 Axes>"
      ]
     },
     "metadata": {
      "needs_background": "light"
     },
     "output_type": "display_data"
    }
   ],
   "source": [
    "test_output = model.predict(X_test)\n",
    "\n",
    "y_test = y[(split_index - 1):]\n",
    "\n",
    "test_output = pd.DataFrame(test_output, index= y_test.index, columns = [\"value\"])\n",
    "\n",
    "test_output.plot(figsize = (10, 5), color = \"g\")\n",
    "y_test.plot(color = \"orange\")\n",
    "\n",
    "pyplot.legend([\"model output\", \"actual value\"])\n",
    "pyplot.ylabel(name+\" Stock Value\")"
   ]
  },
  {
   "cell_type": "markdown",
   "id": "f2543103",
   "metadata": {},
   "source": [
    "Calculate Model Accuracy"
   ]
  },
  {
   "cell_type": "code",
   "execution_count": 16,
   "id": "d365b060",
   "metadata": {},
   "outputs": [
    {
     "name": "stdout",
     "output_type": "stream",
     "text": [
      "99.07337107232878\n"
     ]
    }
   ],
   "source": [
    "score = model.score(X[split_index:], y[(split_index -1):])\n",
    "\n",
    "score = score*100\n",
    "\n",
    "print(score)"
   ]
  },
  {
   "cell_type": "markdown",
   "id": "407b5ea5",
   "metadata": {},
   "source": [
    "This model are able to achieve 99% of accuracy which show a good pattern"
   ]
  },
  {
   "cell_type": "code",
   "execution_count": 17,
   "id": "c81f46db",
   "metadata": {},
   "outputs": [
    {
     "data": {
      "text/plain": [
       "Text(0, 0.5, 'Cumulative Returns')"
      ]
     },
     "execution_count": 17,
     "metadata": {},
     "output_type": "execute_result"
    },
    {
     "data": {
      "image/png": "[encoded data removed]",
      "text/plain": [
       "<Figure size 720x360 with 1 Axes>"
      ]
     },
     "metadata": {
      "needs_background": "light"
     },
     "output_type": "display_data"
    }
   ],
   "source": [
    "stocks = pd.DataFrame()\n",
    "stocks[\"value\"] = dataframe[split_index:][\"Close\"]\n",
    "\n",
    "stocks[\"predicted_tomorrow_value\"] = test_output\n",
    "\n",
    "stocks[\"actual_tomorrow_value\"] = y_test\n",
    "\n",
    "stocks[\"returns\"] = stocks[\"value\"].pct_change().shift(-1) # pct = percentage\n",
    "\n",
    "stocks[\"strategy\"] = np.where(stocks.predicted_tomorrow_value.shift(1) < stocks.predicted_tomorrow_value, 1, 0)\n",
    "\n",
    "stocks[\"strategy_returns\"] = stocks.strategy * stocks[\"returns\"]\n",
    "\n",
    "cumulative_product = (stocks[\"strategy_returns\"]+1).cumprod()\n",
    "\n",
    "cumulative_product.plot(figsize = (10, 5))\n",
    "pyplot.ylabel(\"Cumulative Returns\")"
   ]
  },
  {
   "cell_type": "code",
   "execution_count": 18,
   "id": "910d0024",
   "metadata": {},
   "outputs": [
    {
     "name": "stdout",
     "output_type": "stream",
     "text": [
      "                 value  predicted_tomorrow_value  actual_tomorrow_value  \\\n",
      "Date                                                                      \n",
      "2020-04-28  106.209999                105.950315             112.250000   \n",
      "2020-04-29  112.250000                107.529569             108.150002   \n",
      "2020-04-30  108.150002                108.476031             105.500000   \n",
      "2020-05-01  105.500000                107.694736             103.180000   \n",
      "2020-05-04  103.180000                106.447977             101.059998   \n",
      "\n",
      "             returns  strategy  strategy_returns  \n",
      "Date                                              \n",
      "2020-04-28  0.056868         0          0.000000  \n",
      "2020-04-29 -0.036526         1         -0.036526  \n",
      "2020-04-30 -0.024503         1         -0.024503  \n",
      "2020-05-01 -0.021991         0         -0.000000  \n",
      "2020-05-04 -0.020547         0         -0.000000  \n"
     ]
    }
   ],
   "source": [
    "print(stocks.head())"
   ]
  },
  {
   "cell_type": "markdown",
   "id": "f2a01ce2",
   "metadata": {},
   "source": [
    "## Buy Strategy (Buy or Hold/Sell)\n",
    "\n",
    "Make predictions whether to buy or to sell"
   ]
  },
  {
   "cell_type": "code",
   "execution_count": 68,
   "id": "feee8446",
   "metadata": {},
   "outputs": [
    {
     "name": "stdout",
     "output_type": "stream",
     "text": [
      "[*********************100%***********************]  1 of 1 completed\n"
     ]
    },
    {
     "name": "stderr",
     "output_type": "stream",
     "text": [
      "C:\\Users\\User\\AppData\\Local\\Temp/ipykernel_22656/3564206783.py:9: SettingWithCopyWarning: \n",
      "A value is trying to be set on a copy of a slice from a DataFrame.\n",
      "Try using .loc[row_indexer,col_indexer] = value instead\n",
      "\n",
      "See the caveats in the documentation: https://pandas.pydata.org/pandas-docs/stable/user_guide/indexing.html#returning-a-view-versus-a-copy\n",
      "  dataset[\"predicted_stock_value\"] = model.predict(dataset[[\"five_days_avg\", \"twenty_days_avg\"]])\n",
      "C:\\Users\\User\\AppData\\Local\\Temp/ipykernel_22656/3564206783.py:11: SettingWithCopyWarning: \n",
      "A value is trying to be set on a copy of a slice from a DataFrame.\n",
      "Try using .loc[row_indexer,col_indexer] = value instead\n",
      "\n",
      "See the caveats in the documentation: https://pandas.pydata.org/pandas-docs/stable/user_guide/indexing.html#returning-a-view-versus-a-copy\n",
      "  dataset[\"strategy\"] = np.where(dataset.predicted_stock_value.shift(1) < dataset.predicted_stock_value, \"Buy\", \"Hold/Sell\")\n"
     ]
    },
    {
     "data": {
      "text/html": [
       "<div>\n",
       "<style scoped>\n",
       "    .dataframe tbody tr th:only-of-type {\n",
       "        vertical-align: middle;\n",
       "    }\n",
       "\n",
       "    .dataframe tbody tr th {\n",
       "        vertical-align: top;\n",
       "    }\n",
       "\n",
       "    .dataframe thead th {\n",
       "        text-align: right;\n",
       "    }\n",
       "</style>\n",
       "<table border=\"1\" class=\"dataframe\">\n",
       "  <thead>\n",
       "    <tr style=\"text-align: right;\">\n",
       "      <th></th>\n",
       "      <th>Open</th>\n",
       "      <th>High</th>\n",
       "      <th>Low</th>\n",
       "      <th>Close</th>\n",
       "      <th>Volume</th>\n",
       "      <th>five_days_avg</th>\n",
       "      <th>twenty_days_avg</th>\n",
       "      <th>predicted_stock_value</th>\n",
       "      <th>strategy</th>\n",
       "    </tr>\n",
       "    <tr>\n",
       "      <th>Date</th>\n",
       "      <th></th>\n",
       "      <th></th>\n",
       "      <th></th>\n",
       "      <th></th>\n",
       "      <th></th>\n",
       "      <th></th>\n",
       "      <th></th>\n",
       "      <th></th>\n",
       "      <th></th>\n",
       "    </tr>\n",
       "  </thead>\n",
       "  <tbody>\n",
       "    <tr>\n",
       "      <th>2022-11-11</th>\n",
       "      <td>91.580002</td>\n",
       "      <td>95.580002</td>\n",
       "      <td>91.099998</td>\n",
       "      <td>95.010002</td>\n",
       "      <td>22320900</td>\n",
       "      <td>94.510001</td>\n",
       "      <td>100.11350</td>\n",
       "      <td>93.409431</td>\n",
       "      <td>Hold/Sell</td>\n",
       "    </tr>\n",
       "    <tr>\n",
       "      <th>2022-11-14</th>\n",
       "      <td>95.849998</td>\n",
       "      <td>96.620003</td>\n",
       "      <td>94.209999</td>\n",
       "      <td>94.279999</td>\n",
       "      <td>20598000</td>\n",
       "      <td>93.280000</td>\n",
       "      <td>99.96100</td>\n",
       "      <td>91.968389</td>\n",
       "      <td>Hold/Sell</td>\n",
       "    </tr>\n",
       "    <tr>\n",
       "      <th>2022-11-15</th>\n",
       "      <td>96.000000</td>\n",
       "      <td>97.180000</td>\n",
       "      <td>93.699997</td>\n",
       "      <td>95.510002</td>\n",
       "      <td>15801900</td>\n",
       "      <td>92.402000</td>\n",
       "      <td>99.81250</td>\n",
       "      <td>90.947612</td>\n",
       "      <td>Hold/Sell</td>\n",
       "    </tr>\n",
       "    <tr>\n",
       "      <th>2022-11-16</th>\n",
       "      <td>95.220001</td>\n",
       "      <td>95.220001</td>\n",
       "      <td>93.720001</td>\n",
       "      <td>93.949997</td>\n",
       "      <td>11130200</td>\n",
       "      <td>93.842000</td>\n",
       "      <td>99.56050</td>\n",
       "      <td>92.720136</td>\n",
       "      <td>Buy</td>\n",
       "    </tr>\n",
       "    <tr>\n",
       "      <th>2022-11-17</th>\n",
       "      <td>92.120003</td>\n",
       "      <td>92.269997</td>\n",
       "      <td>90.860001</td>\n",
       "      <td>91.894997</td>\n",
       "      <td>6286182</td>\n",
       "      <td>94.128999</td>\n",
       "      <td>99.22575</td>\n",
       "      <td>93.129881</td>\n",
       "      <td>Buy</td>\n",
       "    </tr>\n",
       "  </tbody>\n",
       "</table>\n",
       "</div>"
      ],
      "text/plain": [
       "                 Open       High        Low      Close    Volume  \\\n",
       "Date                                                               \n",
       "2022-11-11  91.580002  95.580002  91.099998  95.010002  22320900   \n",
       "2022-11-14  95.849998  96.620003  94.209999  94.279999  20598000   \n",
       "2022-11-15  96.000000  97.180000  93.699997  95.510002  15801900   \n",
       "2022-11-16  95.220001  95.220001  93.720001  93.949997  11130200   \n",
       "2022-11-17  92.120003  92.269997  90.860001  91.894997   6286182   \n",
       "\n",
       "            five_days_avg  twenty_days_avg  predicted_stock_value   strategy  \n",
       "Date                                                                          \n",
       "2022-11-11      94.510001        100.11350              93.409431  Hold/Sell  \n",
       "2022-11-14      93.280000         99.96100              91.968389  Hold/Sell  \n",
       "2022-11-15      92.402000         99.81250              90.947612  Hold/Sell  \n",
       "2022-11-16      93.842000         99.56050              92.720136        Buy  \n",
       "2022-11-17      94.128999         99.22575              93.129881        Buy  "
      ]
     },
     "execution_count": 68,
     "metadata": {},
     "output_type": "execute_result"
    }
   ],
   "source": [
    "today = date.today()\n",
    "dataset = yf.download(stock, \"2010-01-01\", today, auto_adjust=True)\n",
    "\n",
    "dataset[\"five_days_avg\"] = dataset[\"Close\"].rolling(window=5).mean()\n",
    "dataset[\"twenty_days_avg\"] = dataset[\"Close\"].rolling(window=20).mean()\n",
    "\n",
    "dataset = dataset.dropna()\n",
    "\n",
    "dataset[\"predicted_stock_value\"] = model.predict(dataset[[\"five_days_avg\", \"twenty_days_avg\"]])\n",
    "\n",
    "dataset[\"strategy\"] = np.where(dataset.predicted_stock_value.shift(1) < dataset.predicted_stock_value, \"Buy\", \"Hold/Sell\")\n",
    "\n",
    "dataset.tail()"
   ]
  },
  {
   "cell_type": "markdown",
   "id": "799c67ff",
   "metadata": {},
   "source": [
    "## Sell Strategy - Hold or Sell\n",
    "\n",
    "Create a user input to store user transaction. There are few variable which need the input from the user\n",
    "\n",
    "- stockName\n",
    "- stock buy\n",
    "- current stock buy price"
   ]
  },
  {
   "cell_type": "code",
   "execution_count": 98,
   "id": "1039d3f5",
   "metadata": {},
   "outputs": [
    {
     "name": "stdout",
     "output_type": "stream",
     "text": [
      "Enter Stock Name： dis\n",
      "Amount of Stock Bought: 4\n",
      "Current Stock Price (Buy Price): 97\n",
      "Current Stock Price (Sell Price): 100\n",
      "[*********************100%***********************]  1 of 1 completed\n"
     ]
    },
    {
     "data": {
      "text/html": [
       "<div>\n",
       "<style scoped>\n",
       "    .dataframe tbody tr th:only-of-type {\n",
       "        vertical-align: middle;\n",
       "    }\n",
       "\n",
       "    .dataframe tbody tr th {\n",
       "        vertical-align: top;\n",
       "    }\n",
       "\n",
       "    .dataframe thead th {\n",
       "        text-align: right;\n",
       "    }\n",
       "</style>\n",
       "<table border=\"1\" class=\"dataframe\">\n",
       "  <thead>\n",
       "    <tr style=\"text-align: right;\">\n",
       "      <th></th>\n",
       "      <th>Time</th>\n",
       "      <th>Open</th>\n",
       "      <th>High</th>\n",
       "      <th>Low</th>\n",
       "      <th>Close</th>\n",
       "      <th>Volume</th>\n",
       "      <th>Share Bought</th>\n",
       "      <th>Current Share Price (Buy Price)</th>\n",
       "      <th>Current Share Price (Sell Price)</th>\n",
       "      <th>Investment</th>\n",
       "      <th>Equity</th>\n",
       "      <th>Return</th>\n",
       "      <th>Sell/Hold</th>\n",
       "    </tr>\n",
       "    <tr>\n",
       "      <th>Date</th>\n",
       "      <th></th>\n",
       "      <th></th>\n",
       "      <th></th>\n",
       "      <th></th>\n",
       "      <th></th>\n",
       "      <th></th>\n",
       "      <th></th>\n",
       "      <th></th>\n",
       "      <th></th>\n",
       "      <th></th>\n",
       "      <th></th>\n",
       "      <th></th>\n",
       "      <th></th>\n",
       "    </tr>\n",
       "  </thead>\n",
       "  <tbody>\n",
       "    <tr>\n",
       "      <th>2022-11-17</th>\n",
       "      <td>02:20:00</td>\n",
       "      <td>92.120003</td>\n",
       "      <td>92.269997</td>\n",
       "      <td>90.860001</td>\n",
       "      <td>92.0</td>\n",
       "      <td>6959843</td>\n",
       "      <td>4.0</td>\n",
       "      <td>97.0</td>\n",
       "      <td>100.0</td>\n",
       "      <td>388.0</td>\n",
       "      <td>368.480011</td>\n",
       "      <td>-19.519989</td>\n",
       "      <td>Hold</td>\n",
       "    </tr>\n",
       "  </tbody>\n",
       "</table>\n",
       "</div>"
      ],
      "text/plain": [
       "                Time       Open       High        Low  Close   Volume  \\\n",
       "Date                                                                    \n",
       "2022-11-17  02:20:00  92.120003  92.269997  90.860001   92.0  6959843   \n",
       "\n",
       "            Share Bought  Current Share Price (Buy Price)  \\\n",
       "Date                                                        \n",
       "2022-11-17           4.0                             97.0   \n",
       "\n",
       "            Current Share Price (Sell Price)  Investment      Equity  \\\n",
       "Date                                                                   \n",
       "2022-11-17                             100.0       388.0  368.480011   \n",
       "\n",
       "               Return Sell/Hold  \n",
       "Date                             \n",
       "2022-11-17 -19.519989      Hold  "
      ]
     },
     "execution_count": 98,
     "metadata": {},
     "output_type": "execute_result"
    }
   ],
   "source": [
    "# Prepare the input variable and formula\n",
    "stockName = input(\"Enter Stock Name： \")\n",
    "shareBought = float(input(\"Amount of Stock Bought: \"))\n",
    "buyPrc = float(input(\"Current Stock Price (Buy Price): \"))\n",
    "sellPrc = float(input(\"Current Stock Price (Sell Price): \"))\n",
    "\n",
    "investment = shareBought*buyPrc\n",
    "\n",
    "ytd = today - timedelta(days = 1)\n",
    "presentable_data = yf.download(stockName, ytd, today, auto_adjust=True)\n",
    "\n",
    "presentable_data.insert(0, \"Time\", datetime.today().strftime(\"%H:%M:%S\"), True)\n",
    "\n",
    "presentable_data['Share Bought'] = shareBought\n",
    "presentable_data['Current Share Price (Buy Price)'] = buyPrc\n",
    "presentable_data['Current Share Price (Sell Price)'] = sellPrc\n",
    "presentable_data['Investment'] = investment\n",
    "\n",
    "presentable_data['Equity'] = presentable_data[\"Open\"]*presentable_data[\"Share Bought\"] # How many equity we have in that company\n",
    "presentable_data['Return'] = presentable_data[\"Equity\"]-presentable_data[\"Investment\"] # Earn/Loss from today market\n",
    "presentable_data['Sell/Hold'] = np.where((presentable_data['Open'] >= presentable_data['Current Share Price (Sell Price)']), \"Sell\", \"Hold\")\n",
    "\n",
    "presentable_data"
   ]
  }
 ],
 "metadata": {
  "kernelspec": {
   "display_name": "Python 3 (ipykernel)",
   "language": "python",
   "name": "python3"
  },
  "language_info": {
   "codemirror_mode": {
    "name": "ipython",
    "version": 3
   },
   "file_extension": ".py",
   "mimetype": "text/x-python",
   "name": "python",
   "nbconvert_exporter": "python",
   "pygments_lexer": "ipython3",
   "version": "3.9.7"
  }
 },
 "nbformat": 4,
 "nbformat_minor": 5
}
